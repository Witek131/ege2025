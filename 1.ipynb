{
 "cells": [
  {
   "metadata": {},
   "cell_type": "markdown",
   "source": "1 34 A G Не связаны соседними вершинами.",
   "id": "1c0ab382dc88db0b"
  },
  {
   "cell_type": "code",
   "id": "initial_id",
   "metadata": {
    "collapsed": true,
    "ExecuteTime": {
     "end_time": "2025-01-13T08:28:48.263706Z",
     "start_time": "2025-01-13T08:28:48.249774Z"
    }
   },
   "source": [
    "from itertools import *\n",
    "\n",
    "from Scripts.jsonpointer import ptr_group\n",
    "\n",
    "\n",
    "def f(x, y, z, w):\n",
    "    return (not (x <= y)) or (x == z) or w\n",
    "\n",
    "\n",
    "print('x y z w')\n",
    "for x in 0, 1:\n",
    "    for y in 0, 1:\n",
    "        for z in 0, 1:\n",
    "            for w in 0, 1:\n",
    "                if not (f(x, y, z, w)):\n",
    "                    print(x, y, z, w)\n",
    "for a in product([0, 1], repeat=6):\n",
    "    t = [(1, 0, a[0], 1), (a[1], a[2], 1, 1), (a[3], a[4], 1, a[5])]\n",
    "    v = [0, 0, 0]\n",
    "    if len(t) == len(set(t)):\n",
    "        for i in permutations('xyzw'):\n",
    "            if all([f(**dict(zip(i, row))) == val for row, val in zip(t, v)]):\n",
    "                print(i)\n"
   ],
   "outputs": [
    {
     "name": "stdout",
     "output_type": "stream",
     "text": [
      "x y z w\n",
      "0 0 1 0\n",
      "0 1 1 0\n",
      "1 1 0 0\n",
      "('x', 'w', 'z', 'y')\n"
     ]
    }
   ],
   "execution_count": 9
  },
  {
   "metadata": {},
   "cell_type": "markdown",
   "source": "![Древо](./pic/img_1.png) Задание4",
   "id": "bca8b11059807fc2"
  },
  {
   "metadata": {
    "ExecuteTime": {
     "end_time": "2025-01-13T09:16:34.408800Z",
     "start_time": "2025-01-13T09:16:34.387824Z"
    }
   },
   "cell_type": "code",
   "source": [
    "# задание5\n",
    "def f1(n):\n",
    "    s1 = ''\n",
    "    while n > 0:\n",
    "        s1 =str(n % 4) + s1\n",
    "        n = n // 4\n",
    "    return s1\n",
    "\n",
    "d=[]\n",
    "for n in range(2, 1000, 1):\n",
    "    s=f1(n)\n",
    "    if n%4:\n",
    "        s=s+f1(n%4*2)\n",
    "    else:\n",
    "        s=s+s[-2:]\n",
    "\n",
    "    if int(s, 4)<261:\n",
    "        d.append(n)\n",
    "print(max(d))"
   ],
   "id": "3caa736a541e6f5c",
   "outputs": [
    {
     "name": "stdout",
     "output_type": "stream",
     "text": [
      "61\n"
     ]
    }
   ],
   "execution_count": 31
  },
  {
   "metadata": {
    "ExecuteTime": {
     "end_time": "2025-01-13T09:25:58.649585Z",
     "start_time": "2025-01-13T09:25:58.609204Z"
    }
   },
   "cell_type": "code",
   "source": [
    "from turtle import *\n",
    "\n",
    "tracer(0)\n",
    "screensize(5000, 5000)\n",
    "r = 20\n",
    "for i in range(2):\n",
    "    fd(17 * r)\n",
    "    lt(90)\n",
    "    fd(10 * r)\n",
    "    lt(90)\n",
    "up()\n",
    "bk(4 * r)\n",
    "rt(90)\n",
    "bk(3 * r)\n",
    "lt(90)\n",
    "down()\n",
    "for i in range(2):\n",
    "    fd(40 * r)\n",
    "    rt(90)\n",
    "    fd(10 * r)\n",
    "    rt(90)\n",
    "up()\n",
    "for x in range(-50, 50):\n",
    "    for y in range(-50, 50):\n",
    "        goto(x * r, y * r)\n",
    "        dot(3, 'red')\n",
    "update()\n",
    "# 11*41+7*18\n"
   ],
   "id": "2810865d222b6e42",
   "outputs": [],
   "execution_count": 33
  },
  {
   "metadata": {
    "ExecuteTime": {
     "end_time": "2025-01-13T09:44:09.653152Z",
     "start_time": "2025-01-13T09:44:09.621910Z"
    }
   },
   "cell_type": "code",
   "source": [
    "# 7 задание\n",
    "from math import *\n",
    "print(ceil((480*270*4*8)/14400))"
   ],
   "id": "f5c7912d0f843d5",
   "outputs": [
    {
     "name": "stdout",
     "output_type": "stream",
     "text": [
      "288\n"
     ]
    }
   ],
   "execution_count": 4
  },
  {
   "metadata": {
    "ExecuteTime": {
     "end_time": "2025-01-13T09:56:45.051024Z",
     "start_time": "2025-01-13T09:56:44.993177Z"
    }
   },
   "cell_type": "code",
   "source": [
    "# 8 задание\n",
    "from itertools import *\n",
    "l=0\n",
    "k=0\n",
    "for i in product(sorted('ФАВОРИТ'), repeat=6):\n",
    "    s =''.join(i)\n",
    "    l+=1\n",
    "    if s.count('Р') == 2 and l%2 == 0 and s[0]!= \"О\":\n",
    "        k+=1\n",
    "print(k)"
   ],
   "id": "791426e1928acaaf",
   "outputs": [
    {
     "name": "stdout",
     "output_type": "stream",
     "text": [
      "8640\n"
     ]
    }
   ],
   "execution_count": 7
  },
  {
   "metadata": {
    "ExecuteTime": {
     "end_time": "2025-01-13T10:06:10.683900Z",
     "start_time": "2025-01-13T10:06:10.592583Z"
    }
   },
   "cell_type": "code",
   "source": [
    "# 8 задание\n",
    "f = open('file\\9\\9 вариант 1.csv').read().split()[:-1]\n",
    "k= 0\n",
    "for i in f:\n",
    "    a = list(map(int,i.split(';')[:8]))\n",
    "    s2  = [i for i in a if a.count(i) == 3]\n",
    "    s1 = [i for i in a if a.count(i) == 1]\n",
    "    m = max(a)\n",
    "    if len(s2) == 6 and len(s1) == 2 and a.count(m) == 1:\n",
    "        k+=1\n",
    "print(k)\n",
    "    "
   ],
   "id": "5fc42bf4046036d5",
   "outputs": [
    {
     "name": "stdout",
     "output_type": "stream",
     "text": [
      "4\n"
     ]
    }
   ],
   "execution_count": 13
  },
  {
   "metadata": {
    "ExecuteTime": {
     "end_time": "2025-01-13T10:11:20.502401Z",
     "start_time": "2025-01-13T10:11:20.485788Z"
    }
   },
   "cell_type": "code",
   "source": [
    "# 11 задание\n",
    "from math import *\n",
    "print((ceil(108*(ceil(log2(70))/8))*25600)/1024)\n"
   ],
   "id": "5fe470e10c79ac47",
   "outputs": [
    {
     "name": "stdout",
     "output_type": "stream",
     "text": [
      "2375.0\n"
     ]
    }
   ],
   "execution_count": 14
  },
  {
   "metadata": {
    "ExecuteTime": {
     "end_time": "2025-01-13T10:18:17.885459Z",
     "start_time": "2025-01-13T10:18:17.867358Z"
    }
   },
   "cell_type": "code",
   "source": [
    "# 12 задание\n",
    "for i in range(1,10000):\n",
    "    s='1'+'2'*i\n",
    "    while '12' in s or '3322' in s or '2222' in s:\n",
    "        s = s.replace('12', '33', 1)\n",
    "        s = s.replace('2222', '1', 1)\n",
    "        s = s.replace('3322', '21', 1)\n",
    "    ss = sum(int(i) for i in s)\n",
    "    if ss == 218:\n",
    "        print(i)\n",
    "        break"
   ],
   "id": "16b33d9da7592e38",
   "outputs": [
    {
     "name": "stdout",
     "output_type": "stream",
     "text": [
      "177\n"
     ]
    }
   ],
   "execution_count": 16
  },
  {
   "metadata": {
    "ExecuteTime": {
     "end_time": "2025-01-13T10:31:07.550843Z",
     "start_time": "2025-01-13T10:31:07.539608Z"
    }
   },
   "cell_type": "code",
   "source": [
    "# 13 задание\n",
    "from ipaddress import *\n",
    "ipp = ip_network('142.108.56.118/255.255.255.240', strict=False)\n",
    "k=0\n",
    "for i in ipp:\n",
    "    if f'{i:b}'[:16].count('1')<f'{i:b}'[16:].count('1'):\n",
    "        k+=1\n",
    "print(k)\n",
    "    "
   ],
   "id": "956ee0c33d2e6226",
   "outputs": [
    {
     "name": "stdout",
     "output_type": "stream",
     "text": [
      "5\n"
     ]
    }
   ],
   "execution_count": 26
  },
  {
   "metadata": {
    "ExecuteTime": {
     "end_time": "2025-01-13T10:35:25.907156Z",
     "start_time": "2025-01-13T10:35:25.894993Z"
    }
   },
   "cell_type": "code",
   "source": [
    "# 14 задание\n",
    "for x in range(23):\n",
    "    s = int(f'1{x}1{x}1{x}1{x}1',23) + int(f'20{x}24', 23) + int(f'1{x}235', 23)\n",
    "    if s%22==0:\n",
    "        print(s//22)\n",
    "        break"
   ],
   "id": "d5497ed802d71071",
   "outputs": [
    {
     "name": "stdout",
     "output_type": "stream",
     "text": [
      "4651779499\n",
      "1050813332984458\n"
     ]
    }
   ],
   "execution_count": 27
  },
  {
   "metadata": {
    "ExecuteTime": {
     "end_time": "2025-01-13T10:40:58.686578Z",
     "start_time": "2025-01-13T10:40:53.152849Z"
    }
   },
   "cell_type": "code",
   "source": [
    "# 15 задание\n",
    "def f(x, y, a):\n",
    "    return (4*x+y < a) or (x<y) or (22<=x)\n",
    "for a in range(500):\n",
    "    s=1\n",
    "    for x in range(500):\n",
    "        for y in range(500):\n",
    "            if not(f(x, y, a)):\n",
    "                s=0\n",
    "    if s:\n",
    "        print(a) \n",
    "        break\n"
   ],
   "id": "3d851bdf6251b884",
   "outputs": [
    {
     "name": "stdout",
     "output_type": "stream",
     "text": [
      "106\n"
     ]
    }
   ],
   "execution_count": 32
  },
  {
   "metadata": {},
   "cell_type": "code",
   "outputs": [],
   "execution_count": null,
   "source": "",
   "id": "ede9d9bd9d556f41"
  }
 ],
 "metadata": {
  "kernelspec": {
   "display_name": "Python 3",
   "language": "python",
   "name": "python3"
  },
  "language_info": {
   "codemirror_mode": {
    "name": "ipython",
    "version": 2
   },
   "file_extension": ".py",
   "mimetype": "text/x-python",
   "name": "python",
   "nbconvert_exporter": "python",
   "pygments_lexer": "ipython2",
   "version": "2.7.6"
  }
 },
 "nbformat": 4,
 "nbformat_minor": 5
}
