{
 "cells": [
  {
   "metadata": {},
   "cell_type": "markdown",
   "source": "1 34 A G Не связаны соседними вершинами.",
   "id": "1c0ab382dc88db0b"
  },
  {
   "cell_type": "code",
   "id": "initial_id",
   "metadata": {
    "collapsed": true,
    "ExecuteTime": {
     "end_time": "2025-01-13T08:28:48.263706Z",
     "start_time": "2025-01-13T08:28:48.249774Z"
    }
   },
   "source": [
    "from getpass import win_getpass\n",
    "from itertools import *\n",
    "from random import random\n",
    "\n",
    "\n",
    "def f(x, y, z, w):\n",
    "    return (not (x <= y)) or (x == z) or w\n",
    "\n",
    "\n",
    "print('x y z w')\n",
    "for x in 0, 1:\n",
    "    for y in 0, 1:\n",
    "        for z in 0, 1:\n",
    "            for w in 0, 1:\n",
    "                if not (f(x, y, z, w)):\n",
    "                    print(x, y, z, w)\n",
    "for a in product([0, 1], repeat=6):\n",
    "    t = [(1, 0, a[0], 1), (a[1], a[2], 1, 1), (a[3], a[4], 1, a[5])]\n",
    "    v = [0, 0, 0]\n",
    "    if len(t) == len(set(t)):\n",
    "        for i in permutations('xyzw'):\n",
    "            if all([f(**dict(zip(i, row))) == val for row, val in zip(t, v)]):\n",
    "                print(i)\n"
   ],
   "outputs": [
    {
     "name": "stdout",
     "output_type": "stream",
     "text": [
      "x y z w\n",
      "0 0 1 0\n",
      "0 1 1 0\n",
      "1 1 0 0\n",
      "('x', 'w', 'z', 'y')\n"
     ]
    }
   ],
   "execution_count": 9
  },
  {
   "metadata": {},
   "cell_type": "markdown",
   "source": "![Древо](./pic/img_1.png) Задание4",
   "id": "bca8b11059807fc2"
  },
  {
   "metadata": {
    "ExecuteTime": {
     "end_time": "2025-01-13T09:16:34.408800Z",
     "start_time": "2025-01-13T09:16:34.387824Z"
    }
   },
   "cell_type": "code",
   "source": [
    "# задание5\n",
    "def f1(n):\n",
    "    s1 = ''\n",
    "    while n > 0:\n",
    "        s1 =str(n % 4) + s1\n",
    "        n = n // 4\n",
    "    return s1\n",
    "\n",
    "d=[]\n",
    "for n in range(2, 1000, 1):\n",
    "    s=f1(n)\n",
    "    if n%4:\n",
    "        s=s+f1(n%4*2)\n",
    "    else:\n",
    "        s=s+s[-2:]\n",
    "\n",
    "    if int(s, 4)<261:\n",
    "        d.append(n)\n",
    "print(max(d))"
   ],
   "id": "3caa736a541e6f5c",
   "outputs": [
    {
     "name": "stdout",
     "output_type": "stream",
     "text": [
      "61\n"
     ]
    }
   ],
   "execution_count": 31
  },
  {
   "metadata": {
    "ExecuteTime": {
     "end_time": "2025-01-13T09:25:58.649585Z",
     "start_time": "2025-01-13T09:25:58.609204Z"
    }
   },
   "cell_type": "code",
   "source": [
    "from turtle import *\n",
    "\n",
    "tracer(0)\n",
    "screensize(5000, 5000)\n",
    "r = 20\n",
    "for i in range(2):\n",
    "    fd(17 * r)\n",
    "    lt(90)\n",
    "    fd(10 * r)\n",
    "    lt(90)\n",
    "up()\n",
    "bk(4 * r)\n",
    "rt(90)\n",
    "bk(3 * r)\n",
    "lt(90)\n",
    "down()\n",
    "for i in range(2):\n",
    "    fd(40 * r)\n",
    "    rt(90)\n",
    "    fd(10 * r)\n",
    "    rt(90)\n",
    "up()\n",
    "for x in range(-50, 50):\n",
    "    for y in range(-50, 50):\n",
    "        goto(x * r, y * r)\n",
    "        dot(3, 'red')\n",
    "update()\n",
    "# 11*41+7*18\n"
   ],
   "id": "2810865d222b6e42",
   "outputs": [],
   "execution_count": 33
  },
  {
   "metadata": {
    "ExecuteTime": {
     "end_time": "2025-01-13T09:44:09.653152Z",
     "start_time": "2025-01-13T09:44:09.621910Z"
    }
   },
   "cell_type": "code",
   "source": [
    "# 7 задание\n",
    "from math import *\n",
    "print(ceil((480*270*4*8)/14400))"
   ],
   "id": "f5c7912d0f843d5",
   "outputs": [
    {
     "name": "stdout",
     "output_type": "stream",
     "text": [
      "288\n"
     ]
    }
   ],
   "execution_count": 4
  },
  {
   "metadata": {
    "ExecuteTime": {
     "end_time": "2025-01-13T09:56:45.051024Z",
     "start_time": "2025-01-13T09:56:44.993177Z"
    }
   },
   "cell_type": "code",
   "source": [
    "# 8 задание\n",
    "from itertools import *\n",
    "l=0\n",
    "k=0\n",
    "for i in product(sorted('ФАВОРИТ'), repeat=6):\n",
    "    s =''.join(i)\n",
    "    l+=1\n",
    "    if s.count('Р') == 2 and l%2 == 0 and s[0]!= \"О\":\n",
    "        k+=1\n",
    "print(k)"
   ],
   "id": "791426e1928acaaf",
   "outputs": [
    {
     "name": "stdout",
     "output_type": "stream",
     "text": [
      "8640\n"
     ]
    }
   ],
   "execution_count": 7
  },
  {
   "metadata": {
    "ExecuteTime": {
     "end_time": "2025-01-13T10:06:10.683900Z",
     "start_time": "2025-01-13T10:06:10.592583Z"
    }
   },
   "cell_type": "code",
   "source": [
    "# 8 задание\n",
    "f = open('file\\9\\9 вариант 1.csv').read().split()[:-1]\n",
    "k= 0\n",
    "for i in f:\n",
    "    a = list(map(int,i.split(';')[:8]))\n",
    "    s2  = [i for i in a if a.count(i) == 3]\n",
    "    s1 = [i for i in a if a.count(i) == 1]\n",
    "    m = max(a)\n",
    "    if len(s2) == 6 and len(s1) == 2 and a.count(m) == 1:\n",
    "        k+=1\n",
    "print(k)\n",
    "    "
   ],
   "id": "5fc42bf4046036d5",
   "outputs": [
    {
     "name": "stdout",
     "output_type": "stream",
     "text": [
      "4\n"
     ]
    }
   ],
   "execution_count": 13
  },
  {
   "metadata": {
    "ExecuteTime": {
     "end_time": "2025-01-13T10:11:20.502401Z",
     "start_time": "2025-01-13T10:11:20.485788Z"
    }
   },
   "cell_type": "code",
   "source": [
    "# 11 задание\n",
    "from math import *\n",
    "print((ceil(108*(ceil(log2(70))/8))*25600)/1024)\n"
   ],
   "id": "5fe470e10c79ac47",
   "outputs": [
    {
     "name": "stdout",
     "output_type": "stream",
     "text": [
      "2375.0\n"
     ]
    }
   ],
   "execution_count": 14
  },
  {
   "metadata": {
    "ExecuteTime": {
     "end_time": "2025-01-13T10:18:17.885459Z",
     "start_time": "2025-01-13T10:18:17.867358Z"
    }
   },
   "cell_type": "code",
   "source": [
    "# 12 задание\n",
    "for i in range(1,10000):\n",
    "    s='1'+'2'*i\n",
    "    while '12' in s or '3322' in s or '2222' in s:\n",
    "        s = s.replace('12', '33', 1)\n",
    "        s = s.replace('2222', '1', 1)\n",
    "        s = s.replace('3322', '21', 1)\n",
    "    ss = sum(int(i) for i in s)\n",
    "    if ss == 218:\n",
    "        print(i)\n",
    "        break"
   ],
   "id": "16b33d9da7592e38",
   "outputs": [
    {
     "name": "stdout",
     "output_type": "stream",
     "text": [
      "177\n"
     ]
    }
   ],
   "execution_count": 16
  },
  {
   "metadata": {
    "ExecuteTime": {
     "end_time": "2025-01-13T10:31:07.550843Z",
     "start_time": "2025-01-13T10:31:07.539608Z"
    }
   },
   "cell_type": "code",
   "source": [
    "# 13 задание\n",
    "from ipaddress import *\n",
    "ipp = ip_network('142.108.56.118/255.255.255.240', strict=False)\n",
    "k=0\n",
    "for i in ipp:\n",
    "    if f'{i:b}'[:16].count('1')<f'{i:b}'[16:].count('1'):\n",
    "        k+=1\n",
    "print(k)\n",
    "    "
   ],
   "id": "956ee0c33d2e6226",
   "outputs": [
    {
     "name": "stdout",
     "output_type": "stream",
     "text": [
      "5\n"
     ]
    }
   ],
   "execution_count": 26
  },
  {
   "metadata": {
    "ExecuteTime": {
     "end_time": "2025-01-13T10:35:25.907156Z",
     "start_time": "2025-01-13T10:35:25.894993Z"
    }
   },
   "cell_type": "code",
   "source": [
    "# 14 задание\n",
    "for x in range(23):\n",
    "    s = int(f'1{x}1{x}1{x}1{x}1',23) + int(f'20{x}24', 23) + int(f'1{x}235', 23)\n",
    "    if s%22==0:\n",
    "        print(s//22)\n",
    "        break"
   ],
   "id": "d5497ed802d71071",
   "outputs": [
    {
     "name": "stdout",
     "output_type": "stream",
     "text": [
      "4651779499\n",
      "1050813332984458\n"
     ]
    }
   ],
   "execution_count": 27
  },
  {
   "metadata": {
    "ExecuteTime": {
     "end_time": "2025-01-13T10:40:58.686578Z",
     "start_time": "2025-01-13T10:40:53.152849Z"
    }
   },
   "cell_type": "code",
   "source": [
    "# 15 задание\n",
    "def f(x, y, a):\n",
    "    return (4*x+y < a) or (x<y) or (22<=x)\n",
    "for a in range(500):\n",
    "    s=1\n",
    "    for x in range(500):\n",
    "        for y in range(500):\n",
    "            if not(f(x, y, a)):\n",
    "                s=0\n",
    "    if s:\n",
    "        print(a) \n",
    "        break\n"
   ],
   "id": "3d851bdf6251b884",
   "outputs": [
    {
     "name": "stdout",
     "output_type": "stream",
     "text": [
      "106\n"
     ]
    }
   ],
   "execution_count": 32
  },
  {
   "metadata": {
    "ExecuteTime": {
     "end_time": "2025-01-13T10:46:28.713491Z",
     "start_time": "2025-01-13T10:46:28.700393Z"
    }
   },
   "cell_type": "code",
   "source": [
    "# 16 задание\n",
    "def f(n):\n",
    "    if n == 5: return 1\n",
    "    else:\n",
    "        return 2*n + 1 +f(n-1)\n",
    "print(f(2024)-f(2022))\n",
    "    "
   ],
   "id": "ede9d9bd9d556f41",
   "outputs": [
    {
     "name": "stdout",
     "output_type": "stream",
     "text": [
      "8096\n"
     ]
    }
   ],
   "execution_count": 33
  },
  {
   "metadata": {
    "ExecuteTime": {
     "end_time": "2025-01-13T11:17:08.201770Z",
     "start_time": "2025-01-13T11:17:08.176132Z"
    }
   },
   "cell_type": "code",
   "source": [
    "# 17 задание\n",
    "def e(n):\n",
    "    if n%100 ==25:\n",
    "        return n\n",
    "f = [int(i) for i in  open('file\\\\17\\\\17var01.txt').read().split()]\n",
    "sm = min([i for i in f if i%100 ==25])\n",
    "k = 0 \n",
    "d = 0\n",
    "for i in range(len(f)-3):\n",
    "    s = [f[j] for j in range(i,i+3) if 9<f[j]<100]\n",
    "    ss = sum(f[j] for j in range(i,i+3))\n",
    "    if len(s) == 1 and ss<sm:\n",
    "        k+=1\n",
    "        d = max(d, ss)\n",
    "print(k, d)"
   ],
   "id": "e0434013da13af2d",
   "outputs": [
    {
     "name": "stdout",
     "output_type": "stream",
     "text": [
      "247 41\n"
     ]
    }
   ],
   "execution_count": 62
  },
  {
   "metadata": {
    "ExecuteTime": {
     "end_time": "2025-01-13T11:53:15.734440Z",
     "start_time": "2025-01-13T11:53:15.721467Z"
    }
   },
   "cell_type": "code",
   "source": [
    "def f19(n, p):\n",
    "    if n >= 202: return p%2 == 0\n",
    "    if p == 0:\n",
    "        return 0\n",
    "    h = [f19(n+1, p-1) , f19(n+4, p-1), f19(n*3, p-1)]\n",
    "    return any(h) if p%2!=0 else all(h)\n"
   ],
   "id": "2a82d467d17c332c",
   "outputs": [],
   "execution_count": 104
  },
  {
   "metadata": {
    "ExecuteTime": {
     "end_time": "2025-01-13T11:54:43.250063Z",
     "start_time": "2025-01-13T11:54:43.231113Z"
    }
   },
   "cell_type": "code",
   "source": [
    "print([i for i in range(1, 201) if f19(i, 2)])\n",
    "print([i for i in range(1, 201) if f19(i, 3)][:2])\n",
    "print([i for i in range(1, 201) if f19(i, 4) and not f19(i, 2)] )"
   ],
   "id": "12be2fc57fd61bf0",
   "outputs": [
    {
     "name": "stdout",
     "output_type": "stream",
     "text": [
      "[67]\n",
      "[63, 66]\n",
      "[62, 65]\n"
     ]
    }
   ],
   "execution_count": 106
  },
  {
   "metadata": {
    "ExecuteTime": {
     "end_time": "2025-01-13T12:09:39.840396Z",
     "start_time": "2025-01-13T12:09:39.821413Z"
    }
   },
   "cell_type": "code",
   "source": [
    "# 22 задание\n",
    "def f(n):\n",
    "    if n== 24: return 1\n",
    "    if n>24: return 0\n",
    "    if n == 11: return 0\n",
    "    if n == 17: return 0\n",
    "    else:\n",
    "        return f(n+1) + f(n+4) + f(n*2)\n",
    "print(f(3))\n",
    "        "
   ],
   "id": "532534cb9b2b9a42",
   "outputs": [
    {
     "name": "stdout",
     "output_type": "stream",
     "text": [
      "298\n"
     ]
    }
   ],
   "execution_count": 108
  },
  {
   "metadata": {
    "ExecuteTime": {
     "end_time": "2025-01-13T13:03:14.354562Z",
     "start_time": "2025-01-13T13:03:01.975154Z"
    }
   },
   "cell_type": "code",
   "source": [
    "# 24 задание\n",
    "f = open('file\\\\24\\\\24var01.txt').read()\n",
    "l =0\n",
    "r =0\n",
    "su =10000000\n",
    "mm= 0\n",
    "for i in range(len(f)):\n",
    "    if f[i] == 'A':\n",
    "        r+=1\n",
    "    while r>2024:\n",
    "        if f[l]=='A':\n",
    "            r-=1\n",
    "        l+=1\n",
    "    if r == 2024:\n",
    "        su =min(su, i-l+1)\n",
    "print(su)\n",
    "s = f.split('A')\n",
    "r = 0\n",
    "m = []\n",
    "for i in range(len(s)-2024):\n",
    "    if i == 0 or i + 2024 >= len(s):\n",
    "        \n",
    "        r = len(''.join(s[i:i + 2024])) + 2024-1\n",
    "        \n",
    "    else:\n",
    "        r = len(''.join(s[i:i + 2024])) + 2024\n",
    "    m.append(r)\n",
    "        \n",
    "print(min(m))"
   ],
   "id": "400d5b8f96eb9dd6",
   "outputs": [
    {
     "name": "stdout",
     "output_type": "stream",
     "text": [
      "8318\n",
      "8318\n"
     ]
    }
   ],
   "execution_count": 138
  },
  {
   "metadata": {
    "ExecuteTime": {
     "end_time": "2025-01-13T13:05:54.730621Z",
     "start_time": "2025-01-13T13:05:54.298646Z"
    }
   },
   "cell_type": "code",
   "source": [
    "# 25 задание\n",
    "from fnmatch import *\n",
    "for i in range(0, 10**10, 31007):\n",
    "    s = fnmatch(str(i),'1*34?5?9')\n",
    "    if s:\n",
    "        print(i, i//31007)"
   ],
   "id": "eecc75dee1b96332",
   "outputs": [
    {
     "name": "stdout",
     "output_type": "stream",
     "text": [
      "1260341529 40647\n",
      "1291348529 41647\n",
      "1300340559 41937\n",
      "1331347559 42937\n",
      "1371346589 44227\n"
     ]
    }
   ],
   "execution_count": 142
  },
  {
   "metadata": {},
   "cell_type": "code",
   "outputs": [],
   "execution_count": null,
   "source": "# 26 задание",
   "id": "1594ef12520120a5"
  }
 ],
 "metadata": {
  "kernelspec": {
   "display_name": "Python 3",
   "language": "python",
   "name": "python3"
  },
  "language_info": {
   "codemirror_mode": {
    "name": "ipython",
    "version": 2
   },
   "file_extension": ".py",
   "mimetype": "text/x-python",
   "name": "python",
   "nbconvert_exporter": "python",
   "pygments_lexer": "ipython2",
   "version": "2.7.6"
  }
 },
 "nbformat": 4,
 "nbformat_minor": 5
}
